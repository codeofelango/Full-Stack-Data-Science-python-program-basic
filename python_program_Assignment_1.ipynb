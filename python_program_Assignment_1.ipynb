{
  "nbformat": 4,
  "nbformat_minor": 0,
  "metadata": {
    "colab": {
      "name": "python program _ Assignment 1.ipynb",
      "provenance": []
    },
    "kernelspec": {
      "name": "python3",
      "display_name": "Python 3"
    },
    "language_info": {
      "name": "python"
    }
  },
  "cells": [
    {
      "cell_type": "code",
      "execution_count": 1,
      "metadata": {
        "colab": {
          "base_uri": "https://localhost:8080/"
        },
        "id": "ibsvYdearYG5",
        "outputId": "e52313df-2a1a-496f-989f-7d8913db1e43"
      },
      "outputs": [
        {
          "output_type": "stream",
          "name": "stdout",
          "text": [
            "Hello Python\n"
          ]
        }
      ],
      "source": [
        "#Write a Python program to print \"Hello Python\"?\n",
        "\n",
        "def printhello():\n",
        "  print('Hello Python')\n",
        "printhello()  "
      ]
    },
    {
      "cell_type": "code",
      "source": [
        "#Write a Python program to do arithmetical operations addition and division.?\n",
        "\n",
        "def arithmatic(a,b):\n",
        "  add = a+b\n",
        "  div = a/b\n",
        "  print(add)\n",
        "  print(div)\n",
        "arithmatic(10,5)  "
      ],
      "metadata": {
        "colab": {
          "base_uri": "https://localhost:8080/"
        },
        "id": "p0lcE-ZSv4ZL",
        "outputId": "d42ce49b-d050-4b5e-a9f8-e8d59afbc63e"
      },
      "execution_count": 2,
      "outputs": [
        {
          "output_type": "stream",
          "name": "stdout",
          "text": [
            "15\n",
            "2.0\n"
          ]
        }
      ]
    },
    {
      "cell_type": "code",
      "source": [
        "#Write a Python program to find the area of a triangle?\n",
        "\n",
        "def findtianglearea():\n",
        "  a = float(input('Triangle first side: '))  \n",
        "  b = float(input('Triangle second side: '))  \n",
        "  c = float(input('Triangle third side: '))  \n",
        "  s = (a + b + c) / 2  \n",
        "  Area = (s*(s-a)*(s-b)*(s-c)) ** 0.5  \n",
        "  print('The area of the triangle is %0.2f' %Area)\n",
        "findtianglearea()\n",
        "\n"
      ],
      "metadata": {
        "colab": {
          "base_uri": "https://localhost:8080/"
        },
        "id": "0O9ZSWP8xqxQ",
        "outputId": "1b76616f-1bf8-45f2-8e7a-65dd7e7d6351"
      },
      "execution_count": 4,
      "outputs": [
        {
          "output_type": "stream",
          "name": "stdout",
          "text": [
            "Triangle first side: 20\n",
            "Triangle second side: 30\n",
            "Triangle third side: 40\n",
            "The area of the triangle is 290.47\n"
          ]
        }
      ]
    },
    {
      "cell_type": "code",
      "source": [
        "#Write a Python program to swap two variables?\n",
        "\n",
        "def swapvariable(a,b):\n",
        "\n",
        "  c= b\n",
        "  b= a\n",
        "  a= c\n",
        "\n",
        "  print(f\"value of {b} is swap to {a} \".format(b, a))\n",
        "  print(f\"value of {a} is swap to {b} \".format(a, b))\n",
        "\n",
        "swapvariable(a=10, b= 20)  "
      ],
      "metadata": {
        "colab": {
          "base_uri": "https://localhost:8080/"
        },
        "id": "N-1tVjmWyZet",
        "outputId": "020d15ab-5803-4390-8a50-a4f8207254e3"
      },
      "execution_count": 18,
      "outputs": [
        {
          "output_type": "stream",
          "name": "stdout",
          "text": [
            "value of 10 is swap to 20 \n",
            "value of 20 is swap to 10 \n"
          ]
        }
      ]
    },
    {
      "cell_type": "code",
      "source": [
        "#Write a Python program to generate a random number?\n",
        "\n",
        "import random\n",
        "\n",
        "randomlist = []\n",
        "\n",
        "for a in range(0,10):\n",
        "  q =random.randint(0,10)\n",
        "  randomlist.append(q)\n",
        "\n",
        "print(randomlist)\n"
      ],
      "metadata": {
        "colab": {
          "base_uri": "https://localhost:8080/"
        },
        "id": "_SHoUvll485v",
        "outputId": "65b868d7-8c27-4605-ae69-816506b08e17"
      },
      "execution_count": 25,
      "outputs": [
        {
          "output_type": "stream",
          "name": "stdout",
          "text": [
            "[6, 1, 7, 10, 9, 2, 0, 1, 7, 1]\n"
          ]
        }
      ]
    }
  ]
}