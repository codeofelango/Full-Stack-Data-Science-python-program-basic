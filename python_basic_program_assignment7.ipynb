{
  "nbformat": 4,
  "nbformat_minor": 0,
  "metadata": {
    "colab": {
      "name": "python basic program_assignment7.ipynb",
      "provenance": []
    },
    "kernelspec": {
      "name": "python3",
      "display_name": "Python 3"
    },
    "language_info": {
      "name": "python"
    }
  },
  "cells": [
    {
      "cell_type": "code",
      "execution_count": 4,
      "metadata": {
        "colab": {
          "base_uri": "https://localhost:8080/"
        },
        "id": "QF9ljvtO6POR",
        "outputId": "8179af56-6070-4652-9407-9d082ff6084c"
      },
      "outputs": [
        {
          "output_type": "stream",
          "name": "stdout",
          "text": [
            "5\n"
          ]
        }
      ],
      "source": [
        "#Write a Python Program to find sum of array?\n",
        "\n",
        "def araysum(arr):\n",
        " s=0\n",
        " for i in range(len(arr)):\n",
        "  s += arr[i]\n",
        "  return s\n",
        "  \n",
        "a = araysum([5,4,3,2])\n",
        "print(a)\n"
      ]
    },
    {
      "cell_type": "code",
      "source": [
        "#Write a Python Program to find largest element in an array?\n",
        "\n",
        "def findlargnumber(arr):\n",
        "  max = arr[0]\n",
        "  al = len(arr)\n",
        "  for i in range(al):\n",
        "    if arr[i] > max:\n",
        "      max = arr[i]\n",
        "  return max\n",
        "\n",
        "result =  findlargnumber([2,9,4,5,6])     \n",
        "print(result)"
      ],
      "metadata": {
        "colab": {
          "base_uri": "https://localhost:8080/"
        },
        "id": "upgMdkh_8F3L",
        "outputId": "998d5dba-0c8f-47cc-a8b2-4d7c62bf3371"
      },
      "execution_count": 6,
      "outputs": [
        {
          "output_type": "stream",
          "name": "stdout",
          "text": [
            "9\n"
          ]
        }
      ]
    },
    {
      "cell_type": "code",
      "source": [
        "# Write a Python Program for array rotation?\n",
        "\n",
        "def rotateArray(a,d):\n",
        "    temp = []\n",
        "    n=len(a)\n",
        "    for i in range(d,n):\n",
        "        temp.append(a[i])\n",
        "    i = 0\n",
        "    for i in range (0,d):\n",
        "         temp.append(a[i])\n",
        "    a=temp.copy()\n",
        "    return a\n",
        " \n",
        "arr = [1, 2, 3, 4, 5, 6, 7]\n",
        "print(\"Array after left rotation is: \", end=' ')\n",
        "print(rotateArray(arr, 2))"
      ],
      "metadata": {
        "colab": {
          "base_uri": "https://localhost:8080/"
        },
        "id": "V2uGV3fh_nkt",
        "outputId": "275808d4-f36a-4572-9cda-495281fcad54"
      },
      "execution_count": 11,
      "outputs": [
        {
          "output_type": "stream",
          "name": "stdout",
          "text": [
            "Array after left rotation is:  [3, 4, 5, 6, 7, 1, 2]\n"
          ]
        }
      ]
    },
    {
      "cell_type": "code",
      "source": [
        "#Write a Python Program to Split the array and add the first part to the end?\n",
        "def splitArr(arr, k): \n",
        "    n = len(arr)\n",
        "    for i in range(0, k): \n",
        "        x = arr[0]\n",
        "        for j in range(0, n-1):\n",
        "            arr[j] = arr[j + 1]\n",
        "          \n",
        "        arr[n-1] = x\n",
        "          \n",
        "  \n",
        "\n",
        "arr = [12, 10, 5, 6, 52, 36]\n",
        "position = 2\n",
        "  \n",
        "splitArr(arr, position)\n",
        "  \n",
        "for i in range(0, len(arr)): \n",
        "    print(arr[i], end = ' ')\n"
      ],
      "metadata": {
        "colab": {
          "base_uri": "https://localhost:8080/"
        },
        "id": "xH7lechxBqIk",
        "outputId": "39c2f66d-7c3e-402d-c27f-f84e363547d8"
      },
      "execution_count": 12,
      "outputs": [
        {
          "output_type": "stream",
          "name": "stdout",
          "text": [
            "5 6 52 36 12 10 "
          ]
        }
      ]
    },
    {
      "cell_type": "code",
      "source": [
        "#Write a Python Program to check if given array is Monotonic?\n",
        "def isMonotonic(A):\n",
        "  \n",
        "    return (all(A[i] <= A[i + 1] for i in range(len(A) - 1)) or\n",
        "            all(A[i] >= A[i + 1] for i in range(len(A) - 1)))\n",
        "  \n",
        "A = [6, 5, 4, 4]\n",
        "print(isMonotonic(A))\n"
      ],
      "metadata": {
        "colab": {
          "base_uri": "https://localhost:8080/"
        },
        "id": "Qra41yIkDUzQ",
        "outputId": "d3cbc9c7-9068-4f49-82cb-9efb81f0327e"
      },
      "execution_count": 13,
      "outputs": [
        {
          "output_type": "stream",
          "name": "stdout",
          "text": [
            "True\n"
          ]
        }
      ]
    }
  ]
}